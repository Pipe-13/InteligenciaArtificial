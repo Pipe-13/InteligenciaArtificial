{
  "nbformat": 4,
  "nbformat_minor": 0,
  "metadata": {
    "colab": {
      "provenance": [],
      "authorship_tag": "ABX9TyOUiCGsIiNQP9FhrKn1+l/r",
      "include_colab_link": true
    },
    "kernelspec": {
      "name": "python3",
      "display_name": "Python 3"
    },
    "language_info": {
      "name": "python"
    }
  },
  "cells": [
    {
      "cell_type": "markdown",
      "metadata": {
        "id": "view-in-github",
        "colab_type": "text"
      },
      "source": [
        "<a href=\"https://colab.research.google.com/github/Pipe-13/InteligenciaArtificial/blob/main/NoticiasCategorias.ipynb\" target=\"_parent\"><img src=\"https://colab.research.google.com/assets/colab-badge.svg\" alt=\"Open In Colab\"/></a>"
      ]
    },
    {
      "cell_type": "code",
      "execution_count": 2,
      "metadata": {
        "id": "qGUkxNcPHlDV"
      },
      "outputs": [],
      "source": [
        "# Imports\n",
        "import re\n",
        "import nltk\n",
        "from sklearn.datasets import fetch_20newsgroups\n",
        "from nltk.corpus import stopwords\n",
        "import gensim\n",
        "from gensim import corpora\n",
        "from gensim.models import LdaModel\n",
        "from nltk.stem import WordNetLemmatizer"
      ]
    },
    {
      "cell_type": "code",
      "metadata": {
        "id": "25de979c"
      },
      "source": [
        "#%pip install gensim"
      ],
      "execution_count": 3,
      "outputs": []
    },
    {
      "cell_type": "code",
      "source": [
        "nltk.download('stopwords')\n",
        "stop_words = stopwords.words('english')\n",
        "nltk.download('wordnet')"
      ],
      "metadata": {
        "colab": {
          "base_uri": "https://localhost:8080/"
        },
        "id": "VdCil1XlH6Cd",
        "outputId": "f0bde599-3e8a-48fe-dd6f-3aff535d63b9"
      },
      "execution_count": 4,
      "outputs": [
        {
          "output_type": "stream",
          "name": "stderr",
          "text": [
            "[nltk_data] Downloading package stopwords to /root/nltk_data...\n",
            "[nltk_data]   Package stopwords is already up-to-date!\n",
            "[nltk_data] Downloading package wordnet to /root/nltk_data...\n",
            "[nltk_data]   Package wordnet is already up-to-date!\n"
          ]
        },
        {
          "output_type": "execute_result",
          "data": {
            "text/plain": [
              "True"
            ]
          },
          "metadata": {},
          "execution_count": 4
        }
      ]
    },
    {
      "cell_type": "code",
      "source": [
        "categories = ['rec.sport.baseball', 'sci.electronics', 'comp.graphics', 'talk.politics.misc']\n",
        "newsgroups_data = fetch_20newsgroups(subset='train', categories=categories, remove=('headers', 'footers', 'quotes'))"
      ],
      "metadata": {
        "id": "QbKOJVHQIAQ2"
      },
      "execution_count": 5,
      "outputs": []
    },
    {
      "cell_type": "code",
      "source": [
        "lemmatizer = WordNetLemmatizer()\n",
        "\n",
        "def cleanText(text):\n",
        "  # Tokenizar texto\n",
        "  tokens = gensim.utils.simple_preprocess(text, deacc=True)\n",
        "\n",
        "  # Eliminar stopwords y palabras cortas\n",
        "  processed_tokens = []\n",
        "  for token in tokens:\n",
        "    if token not in stop_words and len(token) > 2:\n",
        "      # Lemantizar\n",
        "      processed_tokens.append(lemmatizer.lemmatize(token))\n",
        "  return processed_tokens\n",
        "\n",
        "# Limpieza de noticias\n",
        "processed_docs = [cleanText(doc) for doc in newsgroups_data.data]"
      ],
      "metadata": {
        "id": "rBj93Qz7IBPZ"
      },
      "execution_count": 6,
      "outputs": []
    },
    {
      "cell_type": "code",
      "source": [
        "# Creacion de diccionario y BoW\n",
        "dictionary = corpora.Dictionary(processed_docs)\n",
        "dictionary.filter_extremes(no_below=15, no_above=0.5, keep_n=100000)\n",
        "corpus = [dictionary.doc2bow(doc) for doc in processed_docs]"
      ],
      "metadata": {
        "id": "DU7mLYCWIF2e"
      },
      "execution_count": 7,
      "outputs": []
    },
    {
      "cell_type": "code",
      "source": [
        "num_topics = len(categories)\n",
        "\n",
        "# Modelo LDA\n",
        "lda_model = LdaModel(corpus=corpus,\n",
        "                     id2word=dictionary,\n",
        "                     num_topics=4,\n",
        "                     random_state=43,\n",
        "                     chunksize=100)"
      ],
      "metadata": {
        "id": "nLKJiBRLIGq5"
      },
      "execution_count": 8,
      "outputs": []
    },
    {
      "cell_type": "code",
      "source": [
        "# Temas identificados por el modelo\n",
        "topics = lda_model.print_topics(num_words=10)\n",
        "for topic in topics:\n",
        "  print(topic)"
      ],
      "metadata": {
        "colab": {
          "base_uri": "https://localhost:8080/"
        },
        "id": "NDXGnhV4II5S",
        "outputId": "614a9bf7-ec48-4380-a2e8-90d8d2de4461"
      },
      "execution_count": 9,
      "outputs": [
        {
          "output_type": "stream",
          "name": "stdout",
          "text": [
            "(0, '0.012*\"one\" + 0.012*\"use\" + 0.011*\"line\" + 0.009*\"system\" + 0.009*\"would\" + 0.009*\"work\" + 0.009*\"problem\" + 0.008*\"circuit\" + 0.007*\"like\" + 0.007*\"need\"')\n",
            "(1, '0.020*\"year\" + 0.012*\"game\" + 0.010*\"run\" + 0.010*\"good\" + 0.009*\"one\" + 0.009*\"would\" + 0.009*\"last\" + 0.009*\"better\" + 0.008*\"think\" + 0.008*\"player\"')\n",
            "(2, '0.012*\"people\" + 0.012*\"would\" + 0.011*\"think\" + 0.009*\"government\" + 0.009*\"say\" + 0.009*\"president\" + 0.009*\"going\" + 0.009*\"state\" + 0.008*\"make\" + 0.007*\"american\"')\n",
            "(3, '0.014*\"graphic\" + 0.014*\"edu\" + 0.012*\"anyone\" + 0.011*\"thanks\" + 0.011*\"point\" + 0.010*\"file\" + 0.010*\"know\" + 0.009*\"program\" + 0.009*\"image\" + 0.009*\"would\"')\n"
          ]
        }
      ]
    },
    {
      "cell_type": "code",
      "source": [
        "# Diccionario basado en el paso anterior\n",
        "topic_dic = {\n",
        "    0: 'sci.electronics',\n",
        "    1: 'rec.sport.baseball',\n",
        "    2: 'talk.politics.misc',\n",
        "    3: 'comp.graphics'\n",
        "}"
      ],
      "metadata": {
        "id": "qd7ILj7IILJZ"
      },
      "execution_count": 10,
      "outputs": []
    },
    {
      "cell_type": "code",
      "source": [
        "def predict_topic(new_text):\n",
        "  # Limpierza y BoW\n",
        "  processed_new_text = cleanText(new_text)\n",
        "  new_text_bow = dictionary.doc2bow(processed_new_text)\n",
        "  # Obtencion del topico mas probable y su confianza\n",
        "  topic_distribution = lda_model.get_document_topics(new_text_bow)\n",
        "  most_likely_topic = sorted(topic_distribution, key=lambda x: x[1], reverse=True)[0]\n",
        "  topic_id, confidence = most_likely_topic\n",
        "  predicted_topic_name = topic_dic[topic_id]\n",
        "  return predicted_topic_name, confidence"
      ],
      "metadata": {
        "id": "NJ_1WVNjINJT"
      },
      "execution_count": 11,
      "outputs": []
    },
    {
      "cell_type": "code",
      "source": [
        "# Predecir el tópico de 10 noticias\n",
        "for i in range(10):\n",
        "  new_unseen_news = newsgroups_data.data[i]\n",
        "  predicted_topic, confidence = predict_topic(new_unseen_news)\n",
        "\n",
        "  print(f\"Noticia:\\n'{new_unseen_news[:200]}...'\")\n",
        "  print(\"-\" * 30)\n",
        "  print(f\"Tópico Predicho: '{predicted_topic}'\")\n",
        "  print(f\" confiança: {confidence:.2%}\")"
      ],
      "metadata": {
        "colab": {
          "base_uri": "https://localhost:8080/"
        },
        "id": "sqpa99EzIPhR",
        "outputId": "f42dc9b7-89e0-479f-e468-01431e311100"
      },
      "execution_count": 12,
      "outputs": [
        {
          "output_type": "stream",
          "name": "stdout",
          "text": [
            "Noticia:\n",
            "'\n",
            "\n",
            "\n",
            "\n",
            "\n",
            "Um, what?  Eddie Murray was a superb first baseman for a *long* time.\n",
            "\n",
            "Winfield as produced consistently for almsot 20 years, and excellently\n",
            "on several occasions.  \n",
            "\n",
            "Dave Kingman's *best* year w...'\n",
            "------------------------------\n",
            "Tópico Predicho: 'rec.sport.baseball'\n",
            " confiança: 92.73%\n",
            "Noticia:\n",
            "'What hardware do plan to run on?  Workstation or PC?  Cost level?\n",
            "Run-time licensing needs?\n",
            "\n",
            "Bob...'\n",
            "------------------------------\n",
            "Tópico Predicho: 'sci.electronics'\n",
            " confiança: 65.92%\n",
            "Noticia:\n",
            "'\n",
            "This is why I asked to be 'enlightened'.  You are making claims about what\n",
            "'is' or 'is not' part of this program.  But if the \"block grants\" go to states\n",
            "and cities, the mayors list is VERY relivent....'\n",
            "------------------------------\n",
            "Tópico Predicho: 'talk.politics.misc'\n",
            " confiança: 67.83%\n",
            "Noticia:\n",
            "'\n",
            "\n",
            "   An addition to anti-discrimination laws which includes homo and bisexuality\n",
            "? One would assume it would be because politicians were listening to the people\n",
            "coming up with rational arguments rathe...'\n",
            "------------------------------\n",
            "Tópico Predicho: 'talk.politics.misc'\n",
            " confiança: 96.72%\n",
            "Noticia:\n",
            "'\n",
            "\n",
            "Actually the reasons you don't see so many cooling towers at fossil plants are\n",
            "1) fossil units (multiple units per plant) are generally smaller than\n",
            "nuclear plants.  300 MWe seemed to be a very popu...'\n",
            "------------------------------\n",
            "Tópico Predicho: 'comp.graphics'\n",
            " confiança: 41.66%\n",
            "Noticia:\n",
            "'Does anyone know if the Twins games are broadcast in\n",
            "good ole Ames Iowa??????????????...'\n",
            "------------------------------\n",
            "Tópico Predicho: 'rec.sport.baseball'\n",
            " confiança: 54.48%\n",
            "Noticia:\n",
            "'Hi there!...\n",
            "\t\tWell, i have a 386/40 with SVGA 1Mb. (OAK chip 077) and i don't\n",
            "\t\thave VESA TSR program for this card. I need it . \n",
            "\t\t\tPlease... if anybody can help me, mail me at:\n",
            "\t\t\tlulagos@araucaria...'\n",
            "------------------------------\n",
            "Tópico Predicho: 'sci.electronics'\n",
            " confiança: 58.66%\n",
            "Noticia:\n",
            "'\n",
            "No.  No.  NOOO!!!\n",
            "\n",
            "The ground (green) wire is for safety.  No current is supposed to flow in it\n",
            "under normal conditions.  This means that there's normally no voltage drop in\n",
            "it either.  It is suppose...'\n",
            "------------------------------\n",
            "Tópico Predicho: 'sci.electronics'\n",
            " confiança: 75.55%\n",
            "Noticia:\n",
            "'# ##So tell me---what's immoral about homosexuality?\n",
            "# \n",
            "# CC:\n",
            "# #The promiscuity and fetishism that characterizes it.\n",
            "# \n",
            "# Hmmm.\n",
            "# \n",
            "# I've told you more than once that I've been monogamous for almost ...'\n",
            "------------------------------\n",
            "Tópico Predicho: 'talk.politics.misc'\n",
            " confiança: 60.54%\n",
            "Noticia:\n",
            "'[purile babble deleted]\n",
            "\n",
            "Well, some form of guaranteed health care isn't a bad idea, but,\n",
            "yah, I'm a bit worried of a gubnint-run HMO myself.  I'd much\n",
            "rather have something like Canada has [and I'll ...'\n",
            "------------------------------\n",
            "Tópico Predicho: 'talk.politics.misc'\n",
            " confiança: 52.32%\n"
          ]
        }
      ]
    }
  ]
}