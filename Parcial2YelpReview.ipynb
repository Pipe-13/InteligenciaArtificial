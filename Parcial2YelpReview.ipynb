{
  "nbformat": 4,
  "nbformat_minor": 0,
  "metadata": {
    "colab": {
      "provenance": [],
      "mount_file_id": "1SWZZx3bmP-ETWCuVdbbNN_wdcNk7XCIH",
      "authorship_tag": "ABX9TyO8hmPcq78q9rrWi32wLXO1",
      "include_colab_link": true
    },
    "kernelspec": {
      "name": "python3",
      "display_name": "Python 3"
    },
    "language_info": {
      "name": "python"
    }
  },
  "cells": [
    {
      "cell_type": "markdown",
      "metadata": {
        "id": "view-in-github",
        "colab_type": "text"
      },
      "source": [
        "<a href=\"https://colab.research.google.com/github/Pipe-13/InteligenciaArtificial/blob/main/Parcial2YelpReview.ipynb\" target=\"_parent\"><img src=\"https://colab.research.google.com/assets/colab-badge.svg\" alt=\"Open In Colab\"/></a>"
      ]
    },
    {
      "cell_type": "markdown",
      "source": [
        "*   **IMPORTACIÓN DE LIBRERIAS**\n",
        "\n"
      ],
      "metadata": {
        "id": "FMH0WcdnNC7I"
      }
    },
    {
      "cell_type": "code",
      "execution_count": 26,
      "metadata": {
        "id": "Y9ogCx4XLYHj"
      },
      "outputs": [],
      "source": [
        "import pandas as pd\n",
        "# Graficos\n",
        "import seaborn as sns\n",
        "import matplotlib.pyplot as plt\n",
        "# NLP\n",
        "import re\n",
        "import nltk\n",
        "from nltk.corpus import stopwords\n",
        "from nltk.stem import WordNetLemmatizer\n",
        "# Modelo\n",
        "from sklearn.feature_extraction.text import CountVectorizer\n",
        "from sklearn.feature_extraction.text import TfidfVectorizer\n",
        "from sklearn.model_selection import train_test_split\n",
        "from sklearn.linear_model import LogisticRegression\n",
        "from sklearn.metrics import accuracy_score, confusion_matrix, ConfusionMatrixDisplay"
      ]
    },
    {
      "cell_type": "markdown",
      "source": [
        "\n",
        "\n",
        "1.   **CARGA Y PREPARACIÓN DE DATOS**\n",
        "\n"
      ],
      "metadata": {
        "id": "W4phTXazNOVJ"
      }
    },
    {
      "cell_type": "code",
      "source": [
        "# 1.1 Importación del archivo\n",
        "df = pd.read_csv('/content/drive/MyDrive/INTELIGENCIA_ARTIFICIAL/yelp_reviews.csv')\n",
        "\n",
        "# 1.2 Correción inicial\n",
        "df.columns = [\"sentiment\",\"text\"]\n",
        "df['sentiment'] = df['sentiment'].map({1: 0, 2: 1})\n",
        "df.info()\n",
        "\n",
        "# 1.3 Distribución de la variable objetivo\n",
        "sns.countplot(x='sentiment', data=df)\n",
        "sns.countplot(x='sentiment', data=df, color='#90EE90')\n",
        "plt.xlabel('Sentiment (0 = Negativo, 1 = Positivo)')\n",
        "plt.ylabel('Numero de reseñas')\n",
        "plt.show()"
      ],
      "metadata": {
        "colab": {
          "base_uri": "https://localhost:8080/",
          "height": 605
        },
        "id": "mW423MAsNXxp",
        "outputId": "b93ffe90-f22e-4dee-c2c2-8071cac75b97"
      },
      "execution_count": 27,
      "outputs": [
        {
          "output_type": "stream",
          "name": "stdout",
          "text": [
            "<class 'pandas.core.frame.DataFrame'>\n",
            "RangeIndex: 559999 entries, 0 to 559998\n",
            "Data columns (total 2 columns):\n",
            " #   Column     Non-Null Count   Dtype \n",
            "---  ------     --------------   ----- \n",
            " 0   sentiment  559999 non-null  int64 \n",
            " 1   text       559999 non-null  object\n",
            "dtypes: int64(1), object(1)\n",
            "memory usage: 8.5+ MB\n"
          ]
        },
        {
          "output_type": "display_data",
          "data": {
            "text/plain": [
              "<Figure size 640x480 with 1 Axes>"
            ],
            "image/png": "[encoded data removed]"
          },
          "metadata": {}
        }
      ]
    },
    {
      "cell_type": "code",
      "source": [
        "# 1.4 Descarga de recursos para limpieza de datos\n",
        "nltk.download('punkt')\n",
        "nltk.download('stopwords')\n",
        "nltk.download('wordnet')\n",
        "nltk.download('punkt_tab')\n",
        "\n",
        "stop_words = set(stopwords.words('english'))\n",
        "lemmatizer = WordNetLemmatizer()"
      ],
      "metadata": {
        "colab": {
          "base_uri": "https://localhost:8080/"
        },
        "id": "VjTeOC-POIjw",
        "outputId": "db44a9d8-98cd-405a-fc64-a5b895566614"
      },
      "execution_count": 28,
      "outputs": [
        {
          "output_type": "stream",
          "name": "stderr",
          "text": [
            "[nltk_data] Downloading package punkt to /root/nltk_data...\n",
            "[nltk_data]   Package punkt is already up-to-date!\n",
            "[nltk_data] Downloading package stopwords to /root/nltk_data...\n",
            "[nltk_data]   Package stopwords is already up-to-date!\n",
            "[nltk_data] Downloading package wordnet to /root/nltk_data...\n",
            "[nltk_data]   Package wordnet is already up-to-date!\n",
            "[nltk_data] Downloading package punkt_tab to /root/nltk_data...\n",
            "[nltk_data]   Package punkt_tab is already up-to-date!\n"
          ]
        }
      ]
    },
    {
      "cell_type": "markdown",
      "source": [
        "2.   **PREPROCESAMIENTO DE TEXTO**\n",
        "\n"
      ],
      "metadata": {
        "id": "bp1osP1qP8Dh"
      }
    },
    {
      "cell_type": "code",
      "source": [
        "#2.1 Función para procesar el texto:\n",
        "def preprocess_text(text):\n",
        "    text = text.lower()\n",
        "    text = re.sub(r'[^a-z\\s]', '', text)\n",
        "    tokens = nltk.word_tokenize(text)\n",
        "    tokens = [word for word in tokens if word not in stop_words]\n",
        "    tokens = [lemmatizer.lemmatize(word) for word in tokens]\n",
        "    clean_text = ' '.join(tokens)\n",
        "    return clean_text\n",
        "\n",
        "df['clean_text'] = df['text'].apply(preprocess_text)"
      ],
      "metadata": {
        "id": "P_RQqjKPQEfA"
      },
      "execution_count": 29,
      "outputs": []
    },
    {
      "cell_type": "markdown",
      "source": [
        "3.   **MODELADO Y EVALUACIÓN (PARTE A - BOLSA DE PALABRAS)**\n",
        "\n"
      ],
      "metadata": {
        "id": "PpL0D-pRRRFn"
      }
    },
    {
      "cell_type": "code",
      "source": [
        "#3.1 Creación del modelo\n",
        "x = df['clean_text']\n",
        "y = df['sentiment']\n",
        "\n",
        "vectorizer = CountVectorizer()\n",
        "x_vectorized = vectorizer.fit_transform(x)\n",
        "\n",
        "X_train, X_test, y_train, y_test = train_test_split(x_vectorized, y, test_size=0.2, random_state=42, stratify=y)\n",
        "\n",
        "model = LogisticRegression()\n",
        "model.fit(X_train, y_train)"
      ],
      "metadata": {
        "id": "fGccu6c7Rahl",
        "collapsed": true
      },
      "execution_count": null,
      "outputs": []
    },
    {
      "cell_type": "code",
      "source": [
        "# 3.2 Evaluación del modelo y matriz de confusión\n",
        "predictions = model.predict(X_test)\n",
        "accuracy = accuracy_score(y_test, predictions)\n",
        "print(f'Precision del modelo: {accuracy:.4f}')\n",
        "\n",
        "cnf_mtrx = confusion_matrix(y_test, predictions)\n",
        "\n",
        "plt.figure(figsize=(8,6))\n",
        "sns.heatmap(cnf_mtrx, annot=True, fmt=\"d\",\n",
        "            xticklabels=['Negativo (0)', 'Positivo (1)'],\n",
        "            yticklabels=['Negativo (0)', 'Positivo (1)'])\n",
        "plt.xlabel(\"Predicción\")\n",
        "plt.ylabel(\"Valor real\")\n",
        "plt.title(\"Matriz de Confusion\")\n",
        "plt.show()"
      ],
      "metadata": {
        "id": "Y33rsCgdSK32"
      },
      "execution_count": null,
      "outputs": []
    },
    {
      "cell_type": "markdown",
      "source": [
        "4.   **MODELADO Y EVALUACIÓN (PARTE B - TF-IDF)**\n",
        "\n"
      ],
      "metadata": {
        "id": "ZP_qBV43S7dQ"
      }
    },
    {
      "cell_type": "code",
      "source": [
        "# 4.1 Creacion del modelo tfidf\n",
        "tfidf = TfidfVectorizer()\n",
        "X_tfidf = tfidf.fit_transform(x)\n",
        "\n",
        "X_train, X_test, y_train, y_test = train_test_split(X_tfidf, y, test_size=0.2, random_state=42, stratify=y)\n",
        "\n",
        "model_tfidf = LogisticRegression()\n",
        "model_tfidf.fit(X_train, y_train)"
      ],
      "metadata": {
        "id": "6Z7YDpWpS-5e"
      },
      "execution_count": null,
      "outputs": []
    },
    {
      "cell_type": "code",
      "source": [
        "# 4.2 Evaluacion del modelo tfidf y matriz de confusión\n",
        "y_pred_tfidf = model_tfidf.predict(X_test)\n",
        "\n",
        "accuracy_tfidf = accuracy_score(y_test, y_pred_tfidf)\n",
        "print(f'Precision del modelo: {accuracy_tfidf:.4f}')\n",
        "\n",
        "# Matriz de confusión\n",
        "cnf_mtrx_tfidf = confusion_matrix(y_test, y_pred_tfidf)\n",
        "\n",
        "plt.figure(figsize=(8,6))\n",
        "sns.heatmap(cnf_mtrx_tfidf, annot=True, fmt=\"d\",\n",
        "            xticklabels=['Negativo (0)', 'Positivo (1)'],\n",
        "            yticklabels=['Negativo (0)', 'Positivo (1)'])\n",
        "plt.xlabel(\"Predicción\")\n",
        "plt.ylabel(\"Valor real\")\n",
        "plt.title(\"Matriz de Confusion\")\n",
        "plt.show()"
      ],
      "metadata": {
        "id": "wbiKQaJBTTUt"
      },
      "execution_count": null,
      "outputs": []
    },
    {
      "cell_type": "markdown",
      "source": [
        "5.   **CONCLUSIÓN Y ANALISIS**\n",
        "\n"
      ],
      "metadata": {
        "id": "_hua04VrTncu"
      }
    },
    {
      "cell_type": "markdown",
      "source": [
        "Ambos modelos, el de BoG (Bag of Words) y el de TF-IDF, lograron resultados bastante buenos, aunque el modelo TF-IDF alcanzó una precisión ligeramente superior al de BoG, con una diferencia de solo 0.0071%. En cuanto al análisis de las matrices de confusión, el modelo TF-IDF presentó menos falsos negativos (53 menos) y solo un falso positivo. Finalmente, el modelo que recomendaría a Yelp sería el de TF-IDF, no solo porque obtuvo mejores resultados que BoG, aunque sea por un margen pequeño, sino también por su mayor eficiencia. La creación y el entrenamiento del modelo BoG tomó entre 10 y 13 segundos, mientras que el de TF-IDF solo requirió alrededor de 4 segundos."
      ],
      "metadata": {
        "id": "wS0gDiBHUGTC"
      }
    }
  ]
}